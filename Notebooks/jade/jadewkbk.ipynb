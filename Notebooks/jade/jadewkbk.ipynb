{
 "cells": [
  {
   "cell_type": "code",
   "execution_count": 1,
   "metadata": {},
   "outputs": [],
   "source": [
    "# import libraries\n",
    "\n",
    "import pandas as pd\n",
    "import numpy as np\n",
    "\n",
    "from surprise import Dataset, Reader, SVD, NormalPredictor\n",
    "from surprise.model_selection import cross_validate, GridSearchCV, PredefinedKFold\n",
    "from surprise.prediction_algorithms import knns\n",
    "from surprise.similarities import cosine, msd, pearson\n",
    "from surprise import accuracy\n",
    "\n",
    "from sklearn.model_selection import train_test_split"
   ]
  },
  {
   "cell_type": "code",
   "execution_count": 2,
   "metadata": {},
   "outputs": [
    {
     "data": {
      "text/html": [
       "<div>\n",
       "<style scoped>\n",
       "    .dataframe tbody tr th:only-of-type {\n",
       "        vertical-align: middle;\n",
       "    }\n",
       "\n",
       "    .dataframe tbody tr th {\n",
       "        vertical-align: top;\n",
       "    }\n",
       "\n",
       "    .dataframe thead th {\n",
       "        text-align: right;\n",
       "    }\n",
       "</style>\n",
       "<table border=\"1\" class=\"dataframe\">\n",
       "  <thead>\n",
       "    <tr style=\"text-align: right;\">\n",
       "      <th></th>\n",
       "      <th>userId</th>\n",
       "      <th>movieId</th>\n",
       "      <th>rating</th>\n",
       "    </tr>\n",
       "  </thead>\n",
       "  <tbody>\n",
       "    <tr>\n",
       "      <th>0</th>\n",
       "      <td>1</td>\n",
       "      <td>1</td>\n",
       "      <td>4.0</td>\n",
       "    </tr>\n",
       "    <tr>\n",
       "      <th>1</th>\n",
       "      <td>1</td>\n",
       "      <td>3</td>\n",
       "      <td>4.0</td>\n",
       "    </tr>\n",
       "    <tr>\n",
       "      <th>2</th>\n",
       "      <td>1</td>\n",
       "      <td>6</td>\n",
       "      <td>4.0</td>\n",
       "    </tr>\n",
       "    <tr>\n",
       "      <th>3</th>\n",
       "      <td>1</td>\n",
       "      <td>47</td>\n",
       "      <td>5.0</td>\n",
       "    </tr>\n",
       "    <tr>\n",
       "      <th>4</th>\n",
       "      <td>1</td>\n",
       "      <td>50</td>\n",
       "      <td>5.0</td>\n",
       "    </tr>\n",
       "  </tbody>\n",
       "</table>\n",
       "</div>"
      ],
      "text/plain": [
       "   userId  movieId  rating\n",
       "0       1        1     4.0\n",
       "1       1        3     4.0\n",
       "2       1        6     4.0\n",
       "3       1       47     5.0\n",
       "4       1       50     5.0"
      ]
     },
     "execution_count": 2,
     "metadata": {},
     "output_type": "execute_result"
    }
   ],
   "source": [
    "# import ratings csv as df\n",
    "\n",
    "ratings = pd.read_csv('data/ratings.csv')\n",
    "\n",
    "#drop unnecessary timestamp\n",
    "\n",
    "ratings.drop(['timestamp'],inplace=True,axis=1)\n",
    "\n",
    "ratings.head()"
   ]
  },
  {
   "cell_type": "code",
   "execution_count": 3,
   "metadata": {},
   "outputs": [
    {
     "name": "stdout",
     "output_type": "stream",
     "text": [
      "   userId  movieId\n",
      "0       1        1\n",
      "1       1        3\n",
      "2       1        6\n",
      "3       1       47\n",
      "4       1       50    rating\n",
      "0     4.0\n",
      "1     4.0\n",
      "2     4.0\n",
      "3     5.0\n",
      "4     5.0\n",
      "<class 'pandas.core.frame.DataFrame'> <class 'pandas.core.frame.DataFrame'>\n"
     ]
    }
   ],
   "source": [
    "#convert df into surprise dataset\n",
    "\n",
    "rdr = Reader(rating_scale=(1,5)) # optional paramter: 'user item rating'\n",
    "\n",
    "data = Dataset.load_from_df(ratings[['userId','movieId','rating']], reader=rdr)\n",
    "\n",
    "\n",
    "#split into train, test sets\n",
    "\n",
    "y = pd.DataFrame(ratings['rating'])\n",
    "X = ratings.drop('rating',axis=1)\n",
    "print(X.head(),y.head())\n",
    "print(type(X),type(y))\n",
    "X_train, X_test, y_train, y_test = train_test_split(X,y,test_size=.25)\n",
    "\n",
    "train = pd.concat([X_train,y_train],axis=1)\n",
    "\n",
    "test = pd.concat([X_test,y_test],axis=1)\n",
    "\n"
   ]
  },
  {
   "cell_type": "code",
   "execution_count": 4,
   "metadata": {},
   "outputs": [
    {
     "data": {
      "text/plain": [
       "surprise.dataset.DatasetAutoFolds"
      ]
     },
     "execution_count": 4,
     "metadata": {},
     "output_type": "execute_result"
    }
   ],
   "source": [
    "#load trainset, testset for gridsearch\n",
    "\n",
    "trainset= Dataset.load_from_df(train[['userId','movieId','rating']], reader=rdr)\n",
    "\n",
    "testset = Dataset.load_from_df(test[['userId','movieId','rating']], reader=rdr)\n",
    "\n",
    "type(trainset)\n",
    "#train_set = data.build_full_trainset()\n",
    "\n"
   ]
  },
  {
   "cell_type": "code",
   "execution_count": 5,
   "metadata": {},
   "outputs": [
    {
     "data": {
      "text/plain": [
       "{'n_factors': 200, 'n_epochs': 30, 'lr_all': 0.05, 'reg_all': 0.05}"
      ]
     },
     "execution_count": 5,
     "metadata": {},
     "output_type": "execute_result"
    }
   ],
   "source": [
    "#instantiate gridsearch for best SVD model\n",
    "param_grid = {'n_factors':[50,100,150,200], 'n_epochs':[30,],'lr_all':[.05,.1,.2],'reg_all':[.02,.05,.01]}\n",
    "gs = GridSearchCV(SVD, param_grid, measures=['rmse'],cv=3,n_jobs=-1)\n",
    "\n",
    "\n",
    "#fit gridsearch to train\n",
    "gs.fit(trainset)\n",
    "\n",
    "params = gs.best_params['rmse']\n",
    "\n",
    "params"
   ]
  },
  {
   "cell_type": "code",
   "execution_count": 6,
   "metadata": {},
   "outputs": [
    {
     "data": {
      "text/plain": [
       "0.879502777627348"
      ]
     },
     "execution_count": 6,
     "metadata": {},
     "output_type": "execute_result"
    }
   ],
   "source": [
    "gs.best_score['rmse']"
   ]
  },
  {
   "cell_type": "code",
   "execution_count": 10,
   "metadata": {},
   "outputs": [
    {
     "name": "stdout",
     "output_type": "stream",
     "text": [
      "RMSE: 0.5584\n",
      "0.5583951565758049\n"
     ]
    }
   ],
   "source": [
    "from surprise import accuracy\n",
    "svd_gs = SVD(n_factors= 200, n_epochs=30, lr_all= 0.05, reg_all= 0.05)\n",
    "\n",
    "data = trainset.build_full_trainset()\n",
    "\n",
    "test_data = testset.build_full_trainset()\n",
    "\n",
    "\n",
    "test_set = test_data.build_anti_testset()\n",
    "svd_gs.fit(data)\n",
    "predictions = svd_gs.test(test_set)\n",
    "\n",
    "print(accuracy.rmse(predictions))"
   ]
  },
  {
   "cell_type": "code",
   "execution_count": null,
   "metadata": {},
   "outputs": [],
   "source": [
    "print(cross_validate(svd_gs,trainset,measures=['rmse'],n_jobs=-1))\n",
    "\n"
   ]
  },
  {
   "cell_type": "code",
   "execution_count": null,
   "metadata": {},
   "outputs": [],
   "source": []
  }
 ],
 "metadata": {
  "kernelspec": {
   "display_name": "Python (learn-env)",
   "language": "python",
   "name": "learn-env"
  },
  "language_info": {
   "codemirror_mode": {
    "name": "ipython",
    "version": 3
   },
   "file_extension": ".py",
   "mimetype": "text/x-python",
   "name": "python",
   "nbconvert_exporter": "python",
   "pygments_lexer": "ipython3",
   "version": "3.8.5"
  }
 },
 "nbformat": 4,
 "nbformat_minor": 4
}
